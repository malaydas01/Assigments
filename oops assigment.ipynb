{
 "cells": [
  {
   "cell_type": "code",
   "execution_count": 1,
   "id": "5ee4d45d-2042-4f10-b5bc-603ce9844bf1",
   "metadata": {},
   "outputs": [
    {
     "ename": "SyntaxError",
     "evalue": "invalid syntax (220330583.py, line 1)",
     "output_type": "error",
     "traceback": [
      "\u001b[0;36m  Cell \u001b[0;32mIn[1], line 1\u001b[0;36m\u001b[0m\n\u001b[0;31m    1. Explain Class and Object with respect to Object-Oriented Programming. Give a suitable example.\u001b[0m\n\u001b[0m       ^\u001b[0m\n\u001b[0;31mSyntaxError\u001b[0m\u001b[0;31m:\u001b[0m invalid syntax\n"
     ]
    }
   ],
   "source": [
    "1. Explain Class and Object with respect to Object-Oriented Programming. Give a suitable example.\n",
    "ans - class : a class is a blueprint for that object.\n",
    "    An object is any entity that has attributes and behaviors. For example, a parrot is an object. It has\n",
    "\n",
    "    attributes - name, age, color, etc.\n",
    "    behavior - dancing, singing, etc.\n",
    "    Similarly, a class is a blueprint for that object."
   ]
  },
  {
   "cell_type": "code",
   "execution_count": 7,
   "id": "8fe7435e-eb39-440e-8e0f-788380e076fb",
   "metadata": {},
   "outputs": [],
   "source": [
    "class parrot :\n",
    "    \n",
    "    def welcome_msg(self):\n",
    "        print(\"welcome to parrot\")\n"
   ]
  },
  {
   "cell_type": "code",
   "execution_count": 13,
   "id": "7bf752e7-e492-465d-8657-efb5102a8d7e",
   "metadata": {},
   "outputs": [],
   "source": [
    "parrot1 = parrot()"
   ]
  },
  {
   "cell_type": "code",
   "execution_count": 14,
   "id": "8e9da2f6-61f5-4aec-bfef-f63ee37a7173",
   "metadata": {},
   "outputs": [
    {
     "data": {
      "text/plain": [
       "<function __main__.parrot.welcome_msg(self)>"
      ]
     },
     "execution_count": 14,
     "metadata": {},
     "output_type": "execute_result"
    }
   ],
   "source": [
    "parrot.welcome_msg"
   ]
  },
  {
   "cell_type": "code",
   "execution_count": null,
   "id": "f443283e-6de8-45a7-8bde-d09c02c4546c",
   "metadata": {},
   "outputs": [],
   "source": [
    "2. Name the four pillars of OOPs.\n",
    "ans -  \n",
    "    These four pillars are Inheritance, Polymorphism, Encapsulation and Abstraction."
   ]
  },
  {
   "cell_type": "code",
   "execution_count": null,
   "id": "75ff5de8-5ca3-4214-97f0-c52c64b1be5b",
   "metadata": {},
   "outputs": [],
   "source": [
    "3.Explain why the __init__() function is used. Give a suitable example.\n",
    "\n",
    "Ans -- Python supports both structured and object-oriented programming. The class and object are used to implement object-oriented programming. The class defines the properties of the object. The constructor method is used in object-oriented programming to declare, initialize and manipulate the object, and this method is called automatically when an object of the class is created. The __init__() function works like the constructor method in Python and it is declared inside the class.\n",
    "        The syntax of the __init__() function is given below.\n",
    "        __init__(self, [arguments]) : a) Use of a Constructor Without Any Argument\n",
    "                                      b) Use of a Constructor with Arguments"
   ]
  },
  {
   "cell_type": "code",
   "execution_count": 12,
   "id": "dcc2c74a-fb4e-4242-82cb-703ffd44c173",
   "metadata": {},
   "outputs": [],
   "source": [
    "class pwskills :\n",
    "    \n",
    "    def __init__(self ,age_of_student , collage_name , student_id ):\n",
    "        self.age_of_student = age_of_student\n",
    "        self.collage_name = collage_name\n",
    "        self.student_id = student_id\n",
    "    \n",
    "    def return_student_details(self):\n",
    "        return self.student_id ,self.collage_name ,self.age_of_student"
   ]
  },
  {
   "cell_type": "code",
   "execution_count": 13,
   "id": "0b17e380-4b34-4aaf-a4e8-bfcd8cebb255",
   "metadata": {},
   "outputs": [],
   "source": [
    "malay = pwskills(20, \"ucet_hzb\", 2000112)"
   ]
  },
  {
   "cell_type": "code",
   "execution_count": 14,
   "id": "a3b9bff2-9ff8-4d54-b43a-101c9ffa231f",
   "metadata": {},
   "outputs": [
    {
     "data": {
      "text/plain": [
       "(2000112, 'ucet_hzb', 20)"
      ]
     },
     "execution_count": 14,
     "metadata": {},
     "output_type": "execute_result"
    }
   ],
   "source": [
    "malay.return_student_details()"
   ]
  },
  {
   "cell_type": "code",
   "execution_count": null,
   "id": "610f70ad-167e-4a63-b2eb-a3235497dc2e",
   "metadata": {},
   "outputs": [],
   "source": [
    "4. Why self is used in OOPs?\n",
    "\n",
    "Ans --- self is not a reserved keyword\n",
    "        The self variable is used to represent the instance of the class which is often used in object-oriented programming. \n",
    "        It works as a reference to the object. \n",
    "        Python uses the self parameter to refer to instance attributes and methods of the class."
   ]
  },
  {
   "cell_type": "code",
   "execution_count": null,
   "id": "ef3fa771-d8d3-4294-8de3-e55727739ca5",
   "metadata": {},
   "outputs": [],
   "source": [
    "What is inheritance? Give an example for each type of inheritance.\n",
    "Ans----- Inheritance is a mechanism in which one class acquires the property of another class. For example, a child inherits the traits of his/her parents.\n",
    "         With inheritance, we can reuse the fields and methods of the existing class. Hence,\n",
    "         inheritance facilitates Reusability and is an important concept of OOPs."
   ]
  }
 ],
 "metadata": {
  "kernelspec": {
   "display_name": "Python 3 (ipykernel)",
   "language": "python",
   "name": "python3"
  },
  "language_info": {
   "codemirror_mode": {
    "name": "ipython",
    "version": 3
   },
   "file_extension": ".py",
   "mimetype": "text/x-python",
   "name": "python",
   "nbconvert_exporter": "python",
   "pygments_lexer": "ipython3",
   "version": "3.10.8"
  }
 },
 "nbformat": 4,
 "nbformat_minor": 5
}
